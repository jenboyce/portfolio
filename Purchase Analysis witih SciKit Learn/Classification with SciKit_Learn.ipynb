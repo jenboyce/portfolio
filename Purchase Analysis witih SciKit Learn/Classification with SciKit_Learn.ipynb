{
 "cells": [
  {
   "cell_type": "code",
   "execution_count": 3,
   "metadata": {
    "collapsed": false
   },
   "outputs": [],
   "source": [
    "import pandas as pd\n",
    "import numpy as np\n",
    "from sklearn.cross_validation import train_test_split, KFold, cross_val_score\n",
    "from sklearn.linear_model import LinearRegression, Lasso, Ridge, ElasticNet, SGDRegressor, LogisticRegression\n",
    "from sklearn.grid_search import GridSearchCV\n",
    "from sklearn.grid_search import ParameterGrid\n",
    "\n",
    "import matplotlib.pyplot as plt\n",
    "import seaborn as sns\n",
    "sns.set(style=\"whitegrid\", color_codes=True)\n",
    "np.set_printoptions(precision=2)\n",
    "from sklearn.preprocessing import StandardScaler\n",
    "\n",
    "import warnings\n",
    "warnings.filterwarnings('ignore')\n",
    "\n",
    "%matplotlib inline\n",
    "pd.set_option('display.max_columns', 100) # Increase the number of columns available so they don't get cut off on the screen\n",
    "pd.options.display.max_colwidth=100"
   ]
  },
  {
   "cell_type": "markdown",
   "metadata": {},
   "source": [
    "# Classification"
   ]
  },
  {
   "cell_type": "markdown",
   "metadata": {},
   "source": [
    "## Load and Structure the Data"
   ]
  },
  {
   "cell_type": "code",
   "execution_count": 85,
   "metadata": {
    "collapsed": false
   },
   "outputs": [],
   "source": [
    "coupon_redeemers = pd.read_table('coupon_redeemers.csv', delimiter=',')"
   ]
  },
  {
   "cell_type": "code",
   "execution_count": 86,
   "metadata": {
    "collapsed": false
   },
   "outputs": [
    {
     "data": {
      "text/plain": [
       "Index([u'household_key'], dtype='object')"
      ]
     },
     "execution_count": 86,
     "metadata": {},
     "output_type": "execute_result"
    }
   ],
   "source": [
    "coupon_redeemers.columns"
   ]
  },
  {
   "cell_type": "code",
   "execution_count": 87,
   "metadata": {
    "collapsed": false
   },
   "outputs": [],
   "source": [
    "coupon_receivers = pd.read_table('coupon_receivers.csv', delimiter=',')"
   ]
  },
  {
   "cell_type": "code",
   "execution_count": 88,
   "metadata": {
    "collapsed": false
   },
   "outputs": [],
   "source": [
    "c = set(coupon_redeemers['household_key'])\n",
    "coupon_receivers['redeemed'] = (coupon_receivers['household_key'].isin(coupon_redeemers['household_key'])).astype(int)"
   ]
  },
  {
   "cell_type": "code",
   "execution_count": 89,
   "metadata": {
    "collapsed": false
   },
   "outputs": [],
   "source": [
    "outcome = coupon_receivers['redeemed']\n",
    "coupon_redeemers = coupon_receivers.drop('redeemed', axis=1)\n",
    "coupon_redeemers = coupon_receivers.drop('household_key', axis=1)\n",
    "c_dumm = pd.get_dummies(coupon_redeemers)\n",
    "c_dumm = c_dumm.drop('redeemed', axis=1)\n",
    "# Add a column of 1's\n",
    "#c_dumm['1'] = 1.0\n",
    "# Reorder the columns so the ones come first\n",
    "#c_dumm = c_dumm.sort_index(axis=1)"
   ]
  },
  {
   "cell_type": "code",
   "execution_count": 90,
   "metadata": {
    "collapsed": false
   },
   "outputs": [
    {
     "data": {
      "text/plain": [
       "Index([u'AGE_DESC_19-24', u'AGE_DESC_25-34', u'AGE_DESC_35-44',\n",
       "       u'AGE_DESC_45-54', u'AGE_DESC_55-64', u'AGE_DESC_65+',\n",
       "       u'marital_status_code_A', u'marital_status_code_B',\n",
       "       u'marital_status_code_U', u'income_desc_100-124K',\n",
       "       u'income_desc_125-149K', u'income_desc_15-24K', u'income_desc_150-174K',\n",
       "       u'income_desc_175-199K', u'income_desc_200-249K', u'income_desc_25-34K',\n",
       "       u'income_desc_250K+', u'income_desc_35-49K', u'income_desc_50-74K',\n",
       "       u'income_desc_75-99K', u'income_desc_Under 15K',\n",
       "       u'homeowner_desc_Homeowner', u'homeowner_desc_Probable Owner',\n",
       "       u'homeowner_desc_Probable Renter', u'homeowner_desc_Renter',\n",
       "       u'homeowner_desc_Unknown', u'HH_COMP_DESC_1 Adult Kids',\n",
       "       u'HH_COMP_DESC_2 Adults Kids', u'HH_COMP_DESC_2 Adults No Kids',\n",
       "       u'HH_COMP_DESC_Single Female', u'HH_COMP_DESC_Single Male',\n",
       "       u'HH_COMP_DESC_Unknown', u'KID_CATEGORY_DESC_1', u'KID_CATEGORY_DESC_2',\n",
       "       u'KID_CATEGORY_DESC_3+', u'KID_CATEGORY_DESC_None/Unknown'],\n",
       "      dtype='object')"
      ]
     },
     "execution_count": 90,
     "metadata": {},
     "output_type": "execute_result"
    }
   ],
   "source": [
    "c_dumm.columns"
   ]
  },
  {
   "cell_type": "code",
   "execution_count": 91,
   "metadata": {
    "collapsed": true
   },
   "outputs": [],
   "source": [
    "y = outcome.as_matrix()\n",
    "x = c_dumm.as_matrix()"
   ]
  },
  {
   "cell_type": "code",
   "execution_count": 92,
   "metadata": {
    "collapsed": false
   },
   "outputs": [],
   "source": [
    "# Split into 80/20 training and test data for training and testing sets and targets\n",
    "x_train, x_test, y_train, y_test = train_test_split(x, y, test_size=0.2, random_state=33)"
   ]
  },
  {
   "cell_type": "markdown",
   "metadata": {},
   "source": [
    "## Logistic Regression"
   ]
  },
  {
   "cell_type": "code",
   "execution_count": 93,
   "metadata": {
    "collapsed": false
   },
   "outputs": [
    {
     "name": "stdout",
     "output_type": "stream",
     "text": [
      "Training accuracy: 0.629934\n",
      "Testing accuracy: 0.605263\n"
     ]
    }
   ],
   "source": [
    "from sklearn import cross_validation\n",
    "lr = LogisticRegression(random_state=101)\n",
    "lr.fit(x_train, y_train)\n",
    "print 'Training accuracy: %0.6f' % lr.score(x_train,\n",
    "y_train)\n",
    "print 'Testing accuracy: %0.6f' % lr.score(x_test,\n",
    "y_test)"
   ]
  },
  {
   "cell_type": "code",
   "execution_count": 94,
   "metadata": {
    "collapsed": false
   },
   "outputs": [
    {
     "name": "stdout",
     "output_type": "stream",
     "text": [
      "             precision    recall  f1-score   support\n",
      "\n",
      "          0       0.69      0.71      0.70        98\n",
      "          1       0.44      0.41      0.42        54\n",
      "\n",
      "avg / total       0.60      0.61      0.60       152\n",
      "\n"
     ]
    }
   ],
   "source": [
    "from sklearn.metrics import classification_report\n",
    "print classification_report(y_test, lr.predict(x_test))\n"
   ]
  },
  {
   "cell_type": "code",
   "execution_count": 95,
   "metadata": {
    "collapsed": false
   },
   "outputs": [
    {
     "data": {
      "image/png": "[encoded data removed]",
      "text/plain": [
       "<matplotlib.figure.Figure at 0x10dade7d0>"
      ]
     },
     "metadata": {},
     "output_type": "display_data"
    }
   ],
   "source": [
    "from sklearn.metrics import confusion_matrix\n",
    "lrcm = (confusion_matrix(y_test, lr.predict(x_test)))\n",
    "\n",
    "sns.heatmap(lrcm, annot=True,  square=True, fmt='', cmap='RdBu_r', xticklabels=['Predicted No', 'Predicted Yes'], yticklabels=['Actually No', 'Acutally Yes']);\n",
    "plt.title('Logistic Regression Confusion Matrix');\n",
    "plt.savefig('lr_conf.png')"
   ]
  },
  {
   "cell_type": "code",
   "execution_count": 96,
   "metadata": {
    "collapsed": false
   },
   "outputs": [],
   "source": [
    "# Get odds ratio\n",
    "odds = np.exp(lr.coef_)"
   ]
  },
  {
   "cell_type": "code",
   "execution_count": 97,
   "metadata": {
    "collapsed": false
   },
   "outputs": [
    {
     "name": "stdout",
     "output_type": "stream",
     "text": [
      "['AGE_DESC_19-24', 'AGE_DESC_25-34', 'AGE_DESC_35-44', 'AGE_DESC_45-54', 'AGE_DESC_55-64', 'AGE_DESC_65+', 'marital_status_code_A', 'marital_status_code_B', 'marital_status_code_U', 'income_desc_100-124K', 'income_desc_125-149K', 'income_desc_15-24K', 'income_desc_150-174K', 'income_desc_175-199K', 'income_desc_200-249K', 'income_desc_25-34K', 'income_desc_250K+', 'income_desc_35-49K', 'income_desc_50-74K', 'income_desc_75-99K', 'income_desc_Under 15K', 'homeowner_desc_Homeowner', 'homeowner_desc_Probable Owner', 'homeowner_desc_Probable Renter', 'homeowner_desc_Renter', 'homeowner_desc_Unknown', 'HH_COMP_DESC_1 Adult Kids', 'HH_COMP_DESC_2 Adults Kids', 'HH_COMP_DESC_2 Adults No Kids', 'HH_COMP_DESC_Single Female', 'HH_COMP_DESC_Single Male', 'HH_COMP_DESC_Unknown', 'KID_CATEGORY_DESC_1', 'KID_CATEGORY_DESC_2', 'KID_CATEGORY_DESC_3+', 'KID_CATEGORY_DESC_None/Unknown']\n"
     ]
    }
   ],
   "source": [
    "c_names = list(c_dumm.columns.values)\n",
    "print c_names"
   ]
  },
  {
   "cell_type": "code",
   "execution_count": 98,
   "metadata": {
    "collapsed": false
   },
   "outputs": [],
   "source": [
    "odds_summary = zip(c_names, odds[0])\n",
    "odds_sum= pd.DataFrame(odds.T)\n",
    "odds_sum['variable'] = c_names\n",
    "a = odds_sum.sort_index(axis=1, ascending=False)\n",
    "a.to_csv('odds_table.csv')"
   ]
  },
  {
   "cell_type": "code",
   "execution_count": 99,
   "metadata": {
    "collapsed": false
   },
   "outputs": [
    {
     "name": "stdout",
     "output_type": "stream",
     "text": [
      "Method: Logistic Regression\n",
      "RMSE on training: 0.0000\n",
      "RMSE on 10-fold CV: 0.0000\n"
     ]
    }
   ],
   "source": [
    "# Compute RMSE on training data\n",
    "# p = np.array([ridge.predict(xi) for xi in x])\n",
    "lr = LogisticRegression(random_state=101)\n",
    "lr.fit(x_train, y_train)\n",
    "p = lr.predict(x)\n",
    "err = p-y\n",
    "total_error = np.dot(err,err)\n",
    "rmse_train = np.sqrt(total_error/len(p))\n",
    "\n",
    "# Compute RMSE using 10-fold x-validation\n",
    "kf = KFold(len(x), n_folds=10)\n",
    "xval_err = 0\n",
    "for train,test in kf:\n",
    "    lr.fit(x[train],y[train])\n",
    "    p = lr.predict(x[test])\n",
    "    e = p-y[test]\n",
    "    xval_err += np.dot(e,e)\n",
    "rmse_10cv = np.sqrt(xval_err/len(x))\n",
    "\n",
    "method_name = 'Logistic Regression'\n",
    "print('Method: %s' %method_name)\n",
    "print('RMSE on training: %.4f' %rmse_train)\n",
    "print('RMSE on 10-fold CV: %.4f' %rmse_10cv)"
   ]
  },
  {
   "cell_type": "code",
   "execution_count": 100,
   "metadata": {
    "collapsed": false
   },
   "outputs": [
    {
     "name": "stdout",
     "output_type": "stream",
     "text": [
      "cross_val_score = 0.586758714969\n"
     ]
    }
   ],
   "source": [
    "# evaluate the model using 10-fold cross-validation\n",
    "scores = cross_val_score(LogisticRegression(), x, y, scoring='accuracy', cv=10)\n",
    "print 'cross_val_score = %s' %(np.mean(scores))"
   ]
  },
  {
   "cell_type": "code",
   "execution_count": 101,
   "metadata": {
    "collapsed": false
   },
   "outputs": [
    {
     "name": "stdout",
     "output_type": "stream",
     "text": [
      "178\n",
      "311\n"
     ]
    }
   ],
   "source": [
    "# Predict response rate of full dataset\n",
    "lrpreds_all = lr.predict(x)\n",
    "print np.count_nonzero(lrpreds_all)\n",
    "print np.count_nonzero(y)"
   ]
  },
  {
   "cell_type": "code",
   "execution_count": 102,
   "metadata": {
    "collapsed": false
   },
   "outputs": [
    {
     "name": "stdout",
     "output_type": "stream",
     "text": [
      "34\n",
      "54\n"
     ]
    }
   ],
   "source": [
    "lrpreds_test = lr.predict(x_test)\n",
    "print np.count_nonzero(lrpreds_test)\n",
    "print np.count_nonzero(y_test)"
   ]
  },
  {
   "cell_type": "markdown",
   "metadata": {
    "collapsed": true
   },
   "source": [
    "# Classification"
   ]
  },
  {
   "cell_type": "markdown",
   "metadata": {},
   "source": [
    "### KNN"
   ]
  },
  {
   "cell_type": "markdown",
   "metadata": {},
   "source": [
    "#### K=3, Distance"
   ]
  },
  {
   "cell_type": "code",
   "execution_count": 20,
   "metadata": {
    "collapsed": false
   },
   "outputs": [
    {
     "name": "stdout",
     "output_type": "stream",
     "text": [
      "             precision    recall  f1-score   support\n",
      "\n",
      "          0       0.64      0.62      0.63        98\n",
      "          1       0.35      0.37      0.36        54\n",
      "\n",
      "avg / total       0.54      0.53      0.54       152\n",
      "\n",
      "Test Accuracy: 0.532894736842\n",
      "Train Accuracy: 0.871710526316\n",
      "Overall Accuracy: 0.529 (+/- 0.056)\n"
     ]
    }
   ],
   "source": [
    "from sklearn import neighbors, tree, naive_bayes\n",
    "n_neighbors = 3\n",
    "knnclf = neighbors.KNeighborsClassifier(n_neighbors, weights='distance')\n",
    "knnclf.fit(x_train, y_train)\n",
    "knnpreds_test = knnclf.predict(x_test)\n",
    "from sklearn.metrics import classification_report\n",
    "print(classification_report(y_test, knnpreds_test))\n",
    "print \"Test Accuracy: %s\" % knnclf.score(x_test, y_test)  # Average accuracy test\n",
    "print \"Train Accuracy: %s\" % knnclf.score(x_train, y_train)  # Average accuracy train\n",
    "cv_scores = cross_validation.cross_val_score(knnclf, x, y, cv=5)\n",
    "print(\"Overall Accuracy: %0.3f (+/- %0.3f)\" % (cv_scores.mean(), cv_scores.std() * 2))"
   ]
  },
  {
   "cell_type": "markdown",
   "metadata": {},
   "source": [
    "#### K=3, Uniform"
   ]
  },
  {
   "cell_type": "code",
   "execution_count": 21,
   "metadata": {
    "collapsed": false
   },
   "outputs": [
    {
     "name": "stdout",
     "output_type": "stream",
     "text": [
      "             precision    recall  f1-score   support\n",
      "\n",
      "          0       0.68      0.60      0.64        98\n",
      "          1       0.40      0.48      0.44        54\n",
      "\n",
      "avg / total       0.58      0.56      0.57       152\n",
      "\n",
      "Test Accuracy: 0.559210526316\n",
      "Train Accuracy: 0.753289473684\n",
      "Overall Accuracy: 0.539 (+/- 0.04)\n"
     ]
    }
   ],
   "source": [
    "from sklearn import neighbors, tree, naive_bayes\n",
    "n_neighbors = 3\n",
    "knnclf = neighbors.KNeighborsClassifier(n_neighbors, weights='uniform')\n",
    "knnclf.fit(x_train, y_train)\n",
    "knnpreds_test = knnclf.predict(x_test)\n",
    "from sklearn.metrics import classification_report\n",
    "print(classification_report(y_test, knnpreds_test))\n",
    "print \"Test Accuracy: %s\" % knnclf.score(x_test, y_test)  # Average accuracy test\n",
    "print \"Train Accuracy: %s\" % knnclf.score(x_train, y_train)  # Average accuracy train\n",
    "cv_scores = cross_validation.cross_val_score(knnclf, x, y, cv=5)\n",
    "print(\"Overall Accuracy: %0.3f (+/- %0.2f)\" % (cv_scores.mean(), cv_scores.std() * 2))"
   ]
  },
  {
   "cell_type": "markdown",
   "metadata": {},
   "source": [
    "#### K=5,  Distance"
   ]
  },
  {
   "cell_type": "code",
   "execution_count": 22,
   "metadata": {
    "collapsed": false
   },
   "outputs": [
    {
     "name": "stdout",
     "output_type": "stream",
     "text": [
      "             precision    recall  f1-score   support\n",
      "\n",
      "          0       0.61      0.59      0.60        98\n",
      "          1       0.30      0.31      0.31        54\n",
      "\n",
      "avg / total       0.50      0.49      0.50       152\n",
      "\n",
      "Test Accuracy: 0.493421052632\n",
      "Train Accuracy: 0.871710526316\n",
      "Overall Accuracy: 0.551 (+/- 0.06)\n"
     ]
    }
   ],
   "source": [
    "n_neighbors = 5\n",
    "knnclf = neighbors.KNeighborsClassifier(n_neighbors, weights='distance')\n",
    "knnclf.fit(x_train, y_train)\n",
    "knnpreds_test = knnclf.predict(x_test)\n",
    "from sklearn.metrics import classification_report\n",
    "print(classification_report(y_test, knnpreds_test))\n",
    "print \"Test Accuracy: %s\" % knnclf.score(x_test, y_test)  # Average accuracy test\n",
    "print \"Train Accuracy: %s\" % knnclf.score(x_train, y_train)  # Average accuracy train\n",
    "cv_scores = cross_validation.cross_val_score(knnclf, x, y, cv=5)\n",
    "print(\"Overall Accuracy: %0.3f (+/- %0.2f)\" % (cv_scores.mean(), cv_scores.std() * 2))"
   ]
  },
  {
   "cell_type": "markdown",
   "metadata": {},
   "source": [
    "#### K=5, Uniform weight"
   ]
  },
  {
   "cell_type": "code",
   "execution_count": 23,
   "metadata": {
    "collapsed": false
   },
   "outputs": [
    {
     "name": "stdout",
     "output_type": "stream",
     "text": [
      "             precision    recall  f1-score   support\n",
      "\n",
      "          0       0.60      0.56      0.58        98\n",
      "          1       0.28      0.31      0.30        54\n",
      "\n",
      "avg / total       0.49      0.47      0.48       152\n",
      "\n",
      "Test Accuracy: 0.473684210526\n",
      "Train Accuracy: 0.708881578947\n",
      "Overall Accuracy: 0.553 (+/- 0.04)\n"
     ]
    }
   ],
   "source": [
    "from sklearn import neighbors, tree, naive_bayes\n",
    "n_neighbors = 5\n",
    "knnclf = neighbors.KNeighborsClassifier(n_neighbors, weights='uniform')\n",
    "knnclf.fit(x_train, y_train)\n",
    "knnpreds_test = knnclf.predict(x_test)\n",
    "from sklearn.metrics import classification_report\n",
    "print(classification_report(y_test, knnpreds_test))\n",
    "print \"Test Accuracy: %s\" % knnclf.score(x_test, y_test)  # Average accuracy test\n",
    "print \"Train Accuracy: %s\" % knnclf.score(x_train, y_train)  # Average accuracy train\n",
    "cv_scores = cross_validation.cross_val_score(knnclf, x, y, cv=5)\n",
    "print(\"Overall Accuracy: %0.3f (+/- %0.2f)\" % (cv_scores.mean(), cv_scores.std() * 2))"
   ]
  },
  {
   "cell_type": "markdown",
   "metadata": {},
   "source": [
    "#### K=10  Distance"
   ]
  },
  {
   "cell_type": "code",
   "execution_count": 24,
   "metadata": {
    "collapsed": false
   },
   "outputs": [
    {
     "name": "stdout",
     "output_type": "stream",
     "text": [
      "             precision    recall  f1-score   support\n",
      "\n",
      "          0       0.64      0.70      0.67        98\n",
      "          1       0.34      0.28      0.31        54\n",
      "\n",
      "avg / total       0.53      0.55      0.54       152\n",
      "\n",
      "Test Accuracy: 0.552631578947\n",
      "Train Accuracy: 0.871710526316\n",
      "Overall Accuracy: 0.570 (+/- 0.05)\n"
     ]
    }
   ],
   "source": [
    "from sklearn import neighbors, tree, naive_bayes\n",
    "n_neighbors = 10\n",
    "knnclf = neighbors.KNeighborsClassifier(n_neighbors, weights='distance')\n",
    "knnclf.fit(x_train, y_train)\n",
    "knnpreds_test = knnclf.predict(x_test)\n",
    "from sklearn.metrics import classification_report\n",
    "print(classification_report(y_test, knnpreds_test))\n",
    "print \"Test Accuracy: %s\" % knnclf.score(x_test, y_test)  # Average accuracy test\n",
    "print \"Train Accuracy: %s\" % knnclf.score(x_train, y_train)  # Average accuracy train\n",
    "cv_scores = cross_validation.cross_val_score(knnclf, x, y, cv=5)\n",
    "print(\"Overall Accuracy: %0.3f (+/- %0.2f)\" % (cv_scores.mean(), cv_scores.std() * 2))"
   ]
  },
  {
   "cell_type": "markdown",
   "metadata": {},
   "source": [
    "#### K=10, uniform"
   ]
  },
  {
   "cell_type": "code",
   "execution_count": 25,
   "metadata": {
    "collapsed": false
   },
   "outputs": [
    {
     "name": "stdout",
     "output_type": "stream",
     "text": [
      "             precision    recall  f1-score   support\n",
      "\n",
      "          0       0.67      0.82      0.73        98\n",
      "          1       0.44      0.26      0.33        54\n",
      "\n",
      "avg / total       0.59      0.62      0.59       152\n",
      "\n",
      "Test Accuracy: 0.618421052632\n",
      "Train Accuracy: 0.657894736842\n",
      "Overall Accuracy: 0.582 (+/- 0.04)\n"
     ]
    }
   ],
   "source": [
    "from sklearn import neighbors, tree, naive_bayes\n",
    "n_neighbors = 10\n",
    "knnclf = neighbors.KNeighborsClassifier(n_neighbors, weights='uniform')\n",
    "knnclf.fit(x_train, y_train)\n",
    "knnpreds_test = knnclf.predict(x_test)\n",
    "from sklearn.metrics import classification_report\n",
    "print(classification_report(y_test, knnpreds_test))\n",
    "print \"Test Accuracy: %s\" % knnclf.score(x_test, y_test)  # Average accuracy test\n",
    "print \"Train Accuracy: %s\" % knnclf.score(x_train, y_train)  # Average accuracy train\n",
    "cv_scores = cross_validation.cross_val_score(knnclf, x, y, cv=5)\n",
    "print(\"Overall Accuracy: %0.3f (+/- %0.2f)\" % (cv_scores.mean(), cv_scores.std() * 2))"
   ]
  },
  {
   "cell_type": "markdown",
   "metadata": {},
   "source": [
    "#### K=20, distance"
   ]
  },
  {
   "cell_type": "code",
   "execution_count": 26,
   "metadata": {
    "collapsed": false
   },
   "outputs": [
    {
     "name": "stdout",
     "output_type": "stream",
     "text": [
      "             precision    recall  f1-score   support\n",
      "\n",
      "          0       0.63      0.67      0.65        98\n",
      "          1       0.33      0.30      0.31        54\n",
      "\n",
      "avg / total       0.53      0.54      0.53       152\n",
      "\n",
      "Test Accuracy: 0.539473684211\n",
      "Train Accuracy: 0.871710526316\n",
      "Overall Accuracy: 0.57 (+/- 0.04)\n"
     ]
    }
   ],
   "source": [
    "n_neighbors = 20\n",
    "knnclf = neighbors.KNeighborsClassifier(n_neighbors, weights='distance')\n",
    "knnclf.fit(x_train, y_train)\n",
    "knnpreds_test = knnclf.predict(x_test)\n",
    "from sklearn.metrics import classification_report\n",
    "print(classification_report(y_test, knnpreds_test))\n",
    "print \"Test Accuracy: %s\" % knnclf.score(x_test, y_test)  # Average accuracy test\n",
    "print \"Train Accuracy: %s\" % knnclf.score(x_train, y_train)  # Average accuracy train\n",
    "cv_scores = cross_validation.cross_val_score(knnclf, x, y, cv=5)\n",
    "print(\"Overall Accuracy: %0.2f (+/- %0.2f)\" % (cv_scores.mean(), cv_scores.std() * 2))"
   ]
  },
  {
   "cell_type": "markdown",
   "metadata": {},
   "source": [
    "#### K=20, uniform"
   ]
  },
  {
   "cell_type": "code",
   "execution_count": 29,
   "metadata": {
    "collapsed": false
   },
   "outputs": [
    {
     "name": "stdout",
     "output_type": "stream",
     "text": [
      "             precision    recall  f1-score   support\n",
      "\n",
      "          0       0.65      0.79      0.71        98\n",
      "          1       0.38      0.24      0.30        54\n",
      "\n",
      "avg / total       0.56      0.59      0.56       152\n",
      "\n",
      "Test Accuracy: 0.592105263158\n",
      "Train Accuracy: 0.641447368421\n",
      "Overall Accuracy: 0.58 (+/- 0.04)\n"
     ]
    }
   ],
   "source": [
    "from sklearn import neighbors, tree, naive_bayes\n",
    "n_neighbors = 20\n",
    "knnclf = neighbors.KNeighborsClassifier(n_neighbors, weights='uniform')\n",
    "knnclf.fit(x_train, y_train)\n",
    "knnpreds_test = knnclf.predict(x_test)\n",
    "from sklearn.metrics import classification_report\n",
    "print(classification_report(y_test, knnpreds_test))\n",
    "print \"Test Accuracy: %s\" % knnclf.score(x_test, y_test)  # Average accuracy test\n",
    "print \"Train Accuracy: %s\" % knnclf.score(x_train, y_train)  # Average accuracy train\n",
    "cv_scores = cross_validation.cross_val_score(knnclf, x, y, cv=5)\n",
    "print(\"Overall Accuracy: %0.2f (+/- %0.2f)\" % (cv_scores.mean(), cv_scores.std() * 2))"
   ]
  },
  {
   "cell_type": "code",
   "execution_count": 30,
   "metadata": {
    "collapsed": false
   },
   "outputs": [
    {
     "data": {
      "image/png": "[encoded data removed]",
      "text/plain": [
       "<matplotlib.figure.Figure at 0x10d9a3b10>"
      ]
     },
     "metadata": {},
     "output_type": "display_data"
    }
   ],
   "source": [
    "from sklearn.metrics import confusion_matrix\n",
    "knncm = (confusion_matrix(y_test, knnpreds_test))\n",
    "\n",
    "sns.heatmap(knncm, annot=True,  square=True, fmt='', cmap='RdBu_r', xticklabels=['Predicted No', 'Predicted Yes'], yticklabels=['Actually No', 'Acutally Yes']);\n",
    "plt.title('K-Nearest Neighbors Confusion Matrix');\n",
    "plt.savefig('knn_conf.png')"
   ]
  },
  {
   "cell_type": "markdown",
   "metadata": {},
   "source": [
    "## Decision Tree"
   ]
  },
  {
   "cell_type": "markdown",
   "metadata": {},
   "source": [
    "#### Gini"
   ]
  },
  {
   "cell_type": "code",
   "execution_count": 32,
   "metadata": {
    "collapsed": false
   },
   "outputs": [
    {
     "name": "stdout",
     "output_type": "stream",
     "text": [
      "             precision    recall  f1-score   support\n",
      "\n",
      "          0       0.64      1.00      0.78        98\n",
      "          1       0.00      0.00      0.00        54\n",
      "\n",
      "avg / total       0.42      0.64      0.51       152\n",
      "\n",
      "Training accuracy: 0.577302631579\n",
      "Testing accuracy: 0.644736842105\n",
      "Overall Accuracy: 0.595 (+/- 0.01)\n"
     ]
    }
   ],
   "source": [
    "treeclf = tree.DecisionTreeClassifier(criterion='gini', min_samples_split=5, max_features=6, max_depth=2)\n",
    "treeclf = treeclf.fit(x_train, y_train)\n",
    "treepreds_test = treeclf.predict(x_test)\n",
    "print(classification_report(y_test, treepreds_test))\n",
    "print \"Training accuracy: %s\" % treeclf.score(x_train, y_train)\n",
    "print \"Testing accuracy: %s\" % treeclf.score(x_test, y_test)\n",
    "cv_scores = cross_validation.cross_val_score(treeclf, x, y, cv=5)\n",
    "print(\"Overall Accuracy: %0.3f (+/- %0.2f)\" % (cv_scores.mean(), cv_scores.std() * 2))"
   ]
  },
  {
   "cell_type": "code",
   "execution_count": 33,
   "metadata": {
    "collapsed": false
   },
   "outputs": [
    {
     "data": {
      "image/png": "[encoded data removed]",
      "text/plain": [
       "<matplotlib.figure.Figure at 0x1037d9d50>"
      ]
     },
     "metadata": {},
     "output_type": "display_data"
    }
   ],
   "source": [
    "from sklearn.metrics import confusion_matrix\n",
    "treecm = (confusion_matrix(y_test, treepreds_test))\n",
    "\n",
    "sns.heatmap(treecm, annot=True,  square=True, fmt='', cmap='RdBu_r', xticklabels=['Predicted No', 'Predicted Yes'], yticklabels=['Actually No', 'Acutally Yes']);\n",
    "plt.title('Decision Tree Confusion Matrix');\n",
    "plt.savefig('tree_conf.png')"
   ]
  },
  {
   "cell_type": "markdown",
   "metadata": {},
   "source": [
    "### Naive Bayes"
   ]
  },
  {
   "cell_type": "code",
   "execution_count": 103,
   "metadata": {
    "collapsed": false
   },
   "outputs": [
    {
     "name": "stdout",
     "output_type": "stream",
     "text": [
      "0.625\n",
      "0.572368421053\n"
     ]
    }
   ],
   "source": [
    "nbclf = naive_bayes.BernoulliNB(binarize=None, alpha=1)\n",
    "nbclf = nbclf.fit(x_train, y_train)\n",
    "nbpreds_test = nbclf.predict(x_test)\n",
    "print nbclf.score(x_train, y_train)\n",
    "print nbclf.score(x_test, y_test)"
   ]
  },
  {
   "cell_type": "code",
   "execution_count": 104,
   "metadata": {
    "collapsed": false
   },
   "outputs": [
    {
     "data": {
      "text/plain": [
       "array([ 0.6 ,  0.59,  0.59,  0.59,  0.6 ])"
      ]
     },
     "execution_count": 104,
     "metadata": {},
     "output_type": "execute_result"
    }
   ],
   "source": [
    "from sklearn import cross_validation\n",
    "cv_scores = cross_validation.cross_val_score(treeclf, x, y, cv=5)\n",
    "cv_scores"
   ]
  },
  {
   "cell_type": "code",
   "execution_count": 105,
   "metadata": {
    "collapsed": false
   },
   "outputs": [
    {
     "name": "stdout",
     "output_type": "stream",
     "text": [
      "Overall Accuracy: 0.59 (+/- 0.01)\n"
     ]
    }
   ],
   "source": [
    "print(\"Overall Accuracy: %0.2f (+/- %0.2f)\" % (cv_scores.mean(), cv_scores.std() * 2))"
   ]
  },
  {
   "cell_type": "code",
   "execution_count": 106,
   "metadata": {
    "collapsed": false
   },
   "outputs": [
    {
     "name": "stdout",
     "output_type": "stream",
     "text": [
      "             precision    recall  f1-score   support\n",
      "\n",
      "          0       0.70      0.58      0.64        98\n",
      "          1       0.42      0.56      0.48        54\n",
      "\n",
      "avg / total       0.60      0.57      0.58       152\n",
      "\n"
     ]
    }
   ],
   "source": [
    "print(classification_report(y_test, nbpreds_test))"
   ]
  },
  {
   "cell_type": "code",
   "execution_count": 107,
   "metadata": {
    "collapsed": false
   },
   "outputs": [
    {
     "data": {
      "text/plain": [
       "GridSearchCV(cv=10, error_score='raise',\n",
       "       estimator=BernoulliNB(alpha=1.0, binarize=0.0, class_prior=None, fit_prior=True),\n",
       "       fit_params={}, iid=True, loss_func=None, n_jobs=1,\n",
       "       param_grid=[{'alpha': array([ 0.1,  0.2,  0.3,  0.4,  0.5,  0.6,  0.7,  0.8,  0.9,  1. ])}, {'fit_prior': ('True', 'False')}],\n",
       "       pre_dispatch='2*n_jobs', refit=True, score_func=None,\n",
       "       scoring='accuracy', verbose=0)"
      ]
     },
     "execution_count": 107,
     "metadata": {},
     "output_type": "execute_result"
    }
   ],
   "source": [
    "from sklearn.naive_bayes import BernoulliNB\n",
    "# test the model for alpha = 0.1, 0.2, ..., 1.0\n",
    "parameters = [{'alpha':np.linspace(0.1,1,10)}, {'fit_prior':('True','False')}]\n",
    "\n",
    "from sklearn.grid_search import GridSearchCV\n",
    "clf = GridSearchCV(BernoulliNB(), parameters, cv=10, scoring='accuracy')\n",
    "clf.fit(x_train,y_train) # running the grid search"
   ]
  },
  {
   "cell_type": "code",
   "execution_count": 108,
   "metadata": {
    "collapsed": false
   },
   "outputs": [
    {
     "name": "stdout",
     "output_type": "stream",
     "text": [
      "BernoulliNB(alpha=0.40000000000000002, binarize=0.0, class_prior=None,\n",
      "      fit_prior=True)\n",
      "0.578947368421\n",
      "{'alpha': 0.40000000000000002}\n"
     ]
    }
   ],
   "source": [
    "print clf.best_estimator_\n",
    "print clf.best_score_\n",
    "print clf.best_params_"
   ]
  },
  {
   "cell_type": "markdown",
   "metadata": {},
   "source": [
    "#### NB with optimal settings"
   ]
  },
  {
   "cell_type": "code",
   "execution_count": 109,
   "metadata": {
    "collapsed": false
   },
   "outputs": [
    {
     "name": "stdout",
     "output_type": "stream",
     "text": [
      "0.625\n",
      "0.565789473684\n"
     ]
    }
   ],
   "source": [
    "nbclf = naive_bayes.BernoulliNB(binarize=None, alpha=0.4, fit_prior=True)\n",
    "nbclf = nbclf.fit(x_train, y_train)\n",
    "nbpreds_test = nbclf.predict(x_test)\n",
    "print nbclf.score(x_train, y_train)\n",
    "print nbclf.score(x_test, y_test)"
   ]
  },
  {
   "cell_type": "code",
   "execution_count": 110,
   "metadata": {
    "collapsed": false
   },
   "outputs": [
    {
     "name": "stdout",
     "output_type": "stream",
     "text": [
      "             precision    recall  f1-score   support\n",
      "\n",
      "          0       0.70      0.57      0.63        98\n",
      "          1       0.42      0.56      0.48        54\n",
      "\n",
      "avg / total       0.60      0.57      0.57       152\n",
      "\n"
     ]
    }
   ],
   "source": [
    "cv_scores = cross_validation.cross_val_score(nbclf, x, y, cv=5)\n",
    "cv_scores\n",
    "print(classification_report(y_test, nbpreds_test))\n"
   ]
  },
  {
   "cell_type": "code",
   "execution_count": 111,
   "metadata": {
    "collapsed": false
   },
   "outputs": [
    {
     "name": "stdout",
     "output_type": "stream",
     "text": [
      "[[56 42]\n",
      " [24 30]]\n"
     ]
    }
   ],
   "source": [
    "from sklearn.metrics import confusion_matrix\n",
    "nbcm = (confusion_matrix(y_test, nbpreds_test))\n",
    "print nbcm"
   ]
  },
  {
   "cell_type": "code",
   "execution_count": 112,
   "metadata": {
    "collapsed": false
   },
   "outputs": [
    {
     "data": {
      "image/png": "[encoded data removed]",
      "text/plain": [
       "<matplotlib.figure.Figure at 0x10e2c33d0>"
      ]
     },
     "metadata": {},
     "output_type": "display_data"
    }
   ],
   "source": [
    "plt.figure(figsize=(6,6))\n",
    "sns.heatmap(nbcm, annot=True,  square=True, fmt='', cmap='RdBu_r', xticklabels=['Predicted No', 'Predicted Yes'], yticklabels=['Actually No', 'Acutally Yes']);\n",
    "plt.title('Bernoulli Naive Bayes Confusion Matrix');\n",
    "plt.savefig('nb_conf.png')"
   ]
  },
  {
   "cell_type": "code",
   "execution_count": 113,
   "metadata": {
    "collapsed": false
   },
   "outputs": [
    {
     "name": "stdout",
     "output_type": "stream",
     "text": [
      "353\n",
      "311\n"
     ]
    }
   ],
   "source": [
    "# Predict response rate of full dataset\n",
    "nbpreds_all = nbclf.predict(x)\n",
    "print np.count_nonzero(nbpreds_all)\n",
    "print np.count_nonzero(y)"
   ]
  },
  {
   "cell_type": "code",
   "execution_count": 114,
   "metadata": {
    "collapsed": false
   },
   "outputs": [
    {
     "name": "stdout",
     "output_type": "stream",
     "text": [
      "281\n",
      "257\n"
     ]
    }
   ],
   "source": [
    "nbpreds_train = nbclf.predict(x_train)\n",
    "print np.count_nonzero(nbpreds_train)\n",
    "print np.count_nonzero(y_train)"
   ]
  }
 ],
 "metadata": {
  "kernelspec": {
   "display_name": "Python 2",
   "language": "python",
   "name": "python2"
  },
  "language_info": {
   "codemirror_mode": {
    "name": "ipython",
    "version": 2
   },
   "file_extension": ".py",
   "mimetype": "text/x-python",
   "name": "python",
   "nbconvert_exporter": "python",
   "pygments_lexer": "ipython2",
   "version": "2.7.11"
  }
 },
 "nbformat": 4,
 "nbformat_minor": 0
}
