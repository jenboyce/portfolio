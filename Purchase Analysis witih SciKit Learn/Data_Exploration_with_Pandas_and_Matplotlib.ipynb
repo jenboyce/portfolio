{
 "cells": [
  {
   "cell_type": "code",
   "execution_count": 17,
   "metadata": {
    "collapsed": false
   },
   "outputs": [],
   "source": [
    "import pandas as pd\n",
    "import numpy as np\n",
    "from sklearn.cross_validation import train_test_split, KFold, cross_val_score\n",
    "from sklearn.linear_model import LinearRegression, Lasso, Ridge, ElasticNet, SGDRegressor, LogisticRegression\n",
    "from sklearn.grid_search import GridSearchCV\n",
    "from sklearn.grid_search import ParameterGrid\n",
    "\n",
    "import matplotlib.pyplot as plt\n",
    "import seaborn as sns\n",
    "sns.set(style=\"whitegrid\", color_codes=True)\n",
    "np.set_printoptions(precision=2)\n",
    "from sklearn.preprocessing import StandardScaler\n",
    "\n",
    "import warnings\n",
    "warnings.filterwarnings('ignore')\n",
    "\n",
    "%matplotlib inline\n",
    "pd.set_option('display.max_columns', 100) # Increase the number of columns available so they don't get cut off on the screen\n",
    "pd.options.display.max_colwidth=100"
   ]
  },
  {
   "cell_type": "code",
   "execution_count": 18,
   "metadata": {
    "collapsed": false
   },
   "outputs": [],
   "source": [
    "# p_d_sales joins transaction records and customer demographics into one table\n",
    "p_d_sales = pd.read_csv('trans_demographic.csv', quotechar='\"', index_col='BASKET_ID', dtype= {'DAY': int, 'SALES_VALUE': np.float64, 'TRANS_TIME': int, 'WEEK_NO':int,'COUPON_DISC':int, 'SUM(QUANTITY)': int,'AGE_DESC':str,'MARITAL_STATUS_CODE': str,'INCOME_DESC':str, 'HOMEOWNER_DESC':str, 'HH_COMP_DESC':str,  'HOUSEHOLD_SIZE_DESC':str, 'KID_CATEGORY_DESC':str})\n",
    "demo = pd.read_table('demographics.csv', delimiter=',')  # Customer demographics only\n",
    "demo = demo.drop('household_key', axis=1)  # Household key not needed\n",
    "agg_no_gas = pd.read_table('agg_no_gas.csv', delimiter=',')  # Trasaction list- grocery items only"
   ]
  },
  {
   "cell_type": "markdown",
   "metadata": {},
   "source": [
    "# Basic Exploration"
   ]
  },
  {
   "cell_type": "markdown",
   "metadata": {},
   "source": [
    "### # Look at the structure of the data"
   ]
  },
  {
   "cell_type": "code",
   "execution_count": 19,
   "metadata": {
    "collapsed": false
   },
   "outputs": [
    {
     "data": {
      "text/html": [
       "<div>\n",
       "<table border=\"1\" class=\"dataframe\">\n",
       "  <thead>\n",
       "    <tr style=\"text-align: right;\">\n",
       "      <th></th>\n",
       "      <th>DAY</th>\n",
       "      <th>SALES_VALUE</th>\n",
       "      <th>TRANS_TIME</th>\n",
       "      <th>WEEK_NO</th>\n",
       "      <th>COUPON_DISC</th>\n",
       "      <th>SUM(QUANTITY)</th>\n",
       "      <th>AGE_DESC</th>\n",
       "      <th>MARITAL_STATUS_CODE</th>\n",
       "      <th>INCOME_DESC</th>\n",
       "      <th>HOMEOWNER_DESC</th>\n",
       "      <th>HH_COMP_DESC</th>\n",
       "      <th>HOUSEHOLD_SIZE_DESC</th>\n",
       "      <th>KID_CATEGORY_DESC</th>\n",
       "    </tr>\n",
       "    <tr>\n",
       "      <th>BASKET_ID</th>\n",
       "      <th></th>\n",
       "      <th></th>\n",
       "      <th></th>\n",
       "      <th></th>\n",
       "      <th></th>\n",
       "      <th></th>\n",
       "      <th></th>\n",
       "      <th></th>\n",
       "      <th></th>\n",
       "      <th></th>\n",
       "      <th></th>\n",
       "      <th></th>\n",
       "      <th></th>\n",
       "    </tr>\n",
       "  </thead>\n",
       "  <tbody>\n",
       "    <tr>\n",
       "      <th>1364</th>\n",
       "      <td>1</td>\n",
       "      <td>11.37</td>\n",
       "      <td>1520</td>\n",
       "      <td>1</td>\n",
       "      <td>0</td>\n",
       "      <td>5</td>\n",
       "      <td>65+</td>\n",
       "      <td>B</td>\n",
       "      <td>100-124K</td>\n",
       "      <td>Homeowner</td>\n",
       "      <td>Single Female</td>\n",
       "      <td>1</td>\n",
       "      <td>None/Unknown</td>\n",
       "    </tr>\n",
       "    <tr>\n",
       "      <th>1130</th>\n",
       "      <td>1</td>\n",
       "      <td>2.55</td>\n",
       "      <td>1340</td>\n",
       "      <td>1</td>\n",
       "      <td>0</td>\n",
       "      <td>9</td>\n",
       "      <td>55-64</td>\n",
       "      <td>U</td>\n",
       "      <td>25-34K</td>\n",
       "      <td>Renter</td>\n",
       "      <td>2 Adults Kids</td>\n",
       "      <td>3</td>\n",
       "      <td>1</td>\n",
       "    </tr>\n",
       "    <tr>\n",
       "      <th>98</th>\n",
       "      <td>1</td>\n",
       "      <td>5.79</td>\n",
       "      <td>1937</td>\n",
       "      <td>1</td>\n",
       "      <td>0</td>\n",
       "      <td>8</td>\n",
       "      <td>35-44</td>\n",
       "      <td>U</td>\n",
       "      <td>35-49K</td>\n",
       "      <td>Unknown</td>\n",
       "      <td>1 Adult Kids</td>\n",
       "      <td>2</td>\n",
       "      <td>1</td>\n",
       "    </tr>\n",
       "    <tr>\n",
       "      <th>1172</th>\n",
       "      <td>1</td>\n",
       "      <td>44.78</td>\n",
       "      <td>946</td>\n",
       "      <td>1</td>\n",
       "      <td>0</td>\n",
       "      <td>19</td>\n",
       "      <td>25-34</td>\n",
       "      <td>B</td>\n",
       "      <td>50-74K</td>\n",
       "      <td>Unknown</td>\n",
       "      <td>Single Male</td>\n",
       "      <td>1</td>\n",
       "      <td>None/Unknown</td>\n",
       "    </tr>\n",
       "    <tr>\n",
       "      <th>1060</th>\n",
       "      <td>1</td>\n",
       "      <td>139.22</td>\n",
       "      <td>1251</td>\n",
       "      <td>1</td>\n",
       "      <td>0</td>\n",
       "      <td>57</td>\n",
       "      <td>35-44</td>\n",
       "      <td>B</td>\n",
       "      <td>35-49K</td>\n",
       "      <td>Renter</td>\n",
       "      <td>2 Adults No Kids</td>\n",
       "      <td>2</td>\n",
       "      <td>None/Unknown</td>\n",
       "    </tr>\n",
       "  </tbody>\n",
       "</table>\n",
       "</div>"
      ],
      "text/plain": [
       "           DAY  SALES_VALUE  TRANS_TIME  WEEK_NO  COUPON_DISC  SUM(QUANTITY)  \\\n",
       "BASKET_ID                                                                      \n",
       "1364         1        11.37        1520        1            0              5   \n",
       "1130         1         2.55        1340        1            0              9   \n",
       "98           1         5.79        1937        1            0              8   \n",
       "1172         1        44.78         946        1            0             19   \n",
       "1060         1       139.22        1251        1            0             57   \n",
       "\n",
       "          AGE_DESC MARITAL_STATUS_CODE INCOME_DESC HOMEOWNER_DESC  \\\n",
       "BASKET_ID                                                           \n",
       "1364           65+                   B    100-124K      Homeowner   \n",
       "1130         55-64                   U      25-34K         Renter   \n",
       "98           35-44                   U      35-49K        Unknown   \n",
       "1172         25-34                   B      50-74K        Unknown   \n",
       "1060         35-44                   B      35-49K         Renter   \n",
       "\n",
       "               HH_COMP_DESC HOUSEHOLD_SIZE_DESC KID_CATEGORY_DESC  \n",
       "BASKET_ID                                                          \n",
       "1364          Single Female                   1      None/Unknown  \n",
       "1130          2 Adults Kids                   3                 1  \n",
       "98             1 Adult Kids                   2                 1  \n",
       "1172            Single Male                   1      None/Unknown  \n",
       "1060       2 Adults No Kids                   2      None/Unknown  "
      ]
     },
     "execution_count": 19,
     "metadata": {},
     "output_type": "execute_result"
    }
   ],
   "source": [
    "p_d_sales[:5]"
   ]
  },
  {
   "cell_type": "markdown",
   "metadata": {},
   "source": [
    "### # Compute summary statistics for transactions and demographics"
   ]
  },
  {
   "cell_type": "code",
   "execution_count": 20,
   "metadata": {
    "collapsed": false,
    "scrolled": true
   },
   "outputs": [
    {
     "data": {
      "text/html": [
       "<div>\n",
       "<table border=\"1\" class=\"dataframe\">\n",
       "  <thead>\n",
       "    <tr style=\"text-align: right;\">\n",
       "      <th></th>\n",
       "      <th>household_key</th>\n",
       "      <th>BASKET_ID</th>\n",
       "      <th>COUPON_DISC</th>\n",
       "      <th>sales</th>\n",
       "      <th>total</th>\n",
       "      <th>TRANS_TIME</th>\n",
       "      <th>AGE_DESC</th>\n",
       "      <th>MARITAL_STATUS_CODE</th>\n",
       "      <th>INCOME_DESC</th>\n",
       "      <th>HOMEOWNER_DESC</th>\n",
       "      <th>KID_CATEGORY_DESC</th>\n",
       "    </tr>\n",
       "  </thead>\n",
       "  <tbody>\n",
       "    <tr>\n",
       "      <th>count</th>\n",
       "      <td>68374.000000</td>\n",
       "      <td>6.837400e+04</td>\n",
       "      <td>68374.000000</td>\n",
       "      <td>68374.000000</td>\n",
       "      <td>68374.000000</td>\n",
       "      <td>68374.00000</td>\n",
       "      <td>68374</td>\n",
       "      <td>68374</td>\n",
       "      <td>68374</td>\n",
       "      <td>68374</td>\n",
       "      <td>68374</td>\n",
       "    </tr>\n",
       "    <tr>\n",
       "      <th>unique</th>\n",
       "      <td>NaN</td>\n",
       "      <td>NaN</td>\n",
       "      <td>NaN</td>\n",
       "      <td>NaN</td>\n",
       "      <td>NaN</td>\n",
       "      <td>NaN</td>\n",
       "      <td>6</td>\n",
       "      <td>3</td>\n",
       "      <td>12</td>\n",
       "      <td>5</td>\n",
       "      <td>4</td>\n",
       "    </tr>\n",
       "    <tr>\n",
       "      <th>top</th>\n",
       "      <td>NaN</td>\n",
       "      <td>NaN</td>\n",
       "      <td>NaN</td>\n",
       "      <td>NaN</td>\n",
       "      <td>NaN</td>\n",
       "      <td>NaN</td>\n",
       "      <td>45-54</td>\n",
       "      <td>U</td>\n",
       "      <td>50-74K</td>\n",
       "      <td>Homeowner</td>\n",
       "      <td>None/Unknown</td>\n",
       "    </tr>\n",
       "    <tr>\n",
       "      <th>freq</th>\n",
       "      <td>NaN</td>\n",
       "      <td>NaN</td>\n",
       "      <td>NaN</td>\n",
       "      <td>NaN</td>\n",
       "      <td>NaN</td>\n",
       "      <td>NaN</td>\n",
       "      <td>25479</td>\n",
       "      <td>30619</td>\n",
       "      <td>16100</td>\n",
       "      <td>40752</td>\n",
       "      <td>47631</td>\n",
       "    </tr>\n",
       "    <tr>\n",
       "      <th>mean</th>\n",
       "      <td>1236.779448</td>\n",
       "      <td>3.705888e+10</td>\n",
       "      <td>-0.014099</td>\n",
       "      <td>29.323511</td>\n",
       "      <td>13.877088</td>\n",
       "      <td>1549.91760</td>\n",
       "      <td>NaN</td>\n",
       "      <td>NaN</td>\n",
       "      <td>NaN</td>\n",
       "      <td>NaN</td>\n",
       "      <td>NaN</td>\n",
       "    </tr>\n",
       "    <tr>\n",
       "      <th>std</th>\n",
       "      <td>724.175541</td>\n",
       "      <td>3.795617e+09</td>\n",
       "      <td>0.234018</td>\n",
       "      <td>35.691412</td>\n",
       "      <td>16.965954</td>\n",
       "      <td>413.50583</td>\n",
       "      <td>NaN</td>\n",
       "      <td>NaN</td>\n",
       "      <td>NaN</td>\n",
       "      <td>NaN</td>\n",
       "      <td>NaN</td>\n",
       "    </tr>\n",
       "    <tr>\n",
       "      <th>min</th>\n",
       "      <td>1.000000</td>\n",
       "      <td>3.204082e+10</td>\n",
       "      <td>-30.000000</td>\n",
       "      <td>0.000000</td>\n",
       "      <td>0.000000</td>\n",
       "      <td>0.00000</td>\n",
       "      <td>NaN</td>\n",
       "      <td>NaN</td>\n",
       "      <td>NaN</td>\n",
       "      <td>NaN</td>\n",
       "      <td>NaN</td>\n",
       "    </tr>\n",
       "    <tr>\n",
       "      <th>25%</th>\n",
       "      <td>622.000000</td>\n",
       "      <td>3.341275e+10</td>\n",
       "      <td>0.000000</td>\n",
       "      <td>6.000000</td>\n",
       "      <td>3.000000</td>\n",
       "      <td>1253.00000</td>\n",
       "      <td>NaN</td>\n",
       "      <td>NaN</td>\n",
       "      <td>NaN</td>\n",
       "      <td>NaN</td>\n",
       "      <td>NaN</td>\n",
       "    </tr>\n",
       "    <tr>\n",
       "      <th>50%</th>\n",
       "      <td>1228.000000</td>\n",
       "      <td>3.559822e+10</td>\n",
       "      <td>0.000000</td>\n",
       "      <td>16.110000</td>\n",
       "      <td>7.000000</td>\n",
       "      <td>1612.00000</td>\n",
       "      <td>NaN</td>\n",
       "      <td>NaN</td>\n",
       "      <td>NaN</td>\n",
       "      <td>NaN</td>\n",
       "      <td>NaN</td>\n",
       "    </tr>\n",
       "    <tr>\n",
       "      <th>75%</th>\n",
       "      <td>1879.000000</td>\n",
       "      <td>4.090014e+10</td>\n",
       "      <td>0.000000</td>\n",
       "      <td>38.460000</td>\n",
       "      <td>18.000000</td>\n",
       "      <td>1842.00000</td>\n",
       "      <td>NaN</td>\n",
       "      <td>NaN</td>\n",
       "      <td>NaN</td>\n",
       "      <td>NaN</td>\n",
       "      <td>NaN</td>\n",
       "    </tr>\n",
       "    <tr>\n",
       "      <th>max</th>\n",
       "      <td>2499.000000</td>\n",
       "      <td>4.230271e+10</td>\n",
       "      <td>0.000000</td>\n",
       "      <td>496.370000</td>\n",
       "      <td>215.000000</td>\n",
       "      <td>2359.00000</td>\n",
       "      <td>NaN</td>\n",
       "      <td>NaN</td>\n",
       "      <td>NaN</td>\n",
       "      <td>NaN</td>\n",
       "      <td>NaN</td>\n",
       "    </tr>\n",
       "  </tbody>\n",
       "</table>\n",
       "</div>"
      ],
      "text/plain": [
       "        household_key     BASKET_ID   COUPON_DISC         sales         total  \\\n",
       "count    68374.000000  6.837400e+04  68374.000000  68374.000000  68374.000000   \n",
       "unique            NaN           NaN           NaN           NaN           NaN   \n",
       "top               NaN           NaN           NaN           NaN           NaN   \n",
       "freq              NaN           NaN           NaN           NaN           NaN   \n",
       "mean      1236.779448  3.705888e+10     -0.014099     29.323511     13.877088   \n",
       "std        724.175541  3.795617e+09      0.234018     35.691412     16.965954   \n",
       "min          1.000000  3.204082e+10    -30.000000      0.000000      0.000000   \n",
       "25%        622.000000  3.341275e+10      0.000000      6.000000      3.000000   \n",
       "50%       1228.000000  3.559822e+10      0.000000     16.110000      7.000000   \n",
       "75%       1879.000000  4.090014e+10      0.000000     38.460000     18.000000   \n",
       "max       2499.000000  4.230271e+10      0.000000    496.370000    215.000000   \n",
       "\n",
       "         TRANS_TIME AGE_DESC MARITAL_STATUS_CODE INCOME_DESC HOMEOWNER_DESC  \\\n",
       "count   68374.00000    68374               68374       68374          68374   \n",
       "unique          NaN        6                   3          12              5   \n",
       "top             NaN    45-54                   U      50-74K      Homeowner   \n",
       "freq            NaN    25479               30619       16100          40752   \n",
       "mean     1549.91760      NaN                 NaN         NaN            NaN   \n",
       "std       413.50583      NaN                 NaN         NaN            NaN   \n",
       "min         0.00000      NaN                 NaN         NaN            NaN   \n",
       "25%      1253.00000      NaN                 NaN         NaN            NaN   \n",
       "50%      1612.00000      NaN                 NaN         NaN            NaN   \n",
       "75%      1842.00000      NaN                 NaN         NaN            NaN   \n",
       "max      2359.00000      NaN                 NaN         NaN            NaN   \n",
       "\n",
       "       KID_CATEGORY_DESC  \n",
       "count              68374  \n",
       "unique                 4  \n",
       "top         None/Unknown  \n",
       "freq               47631  \n",
       "mean                 NaN  \n",
       "std                  NaN  \n",
       "min                  NaN  \n",
       "25%                  NaN  \n",
       "50%                  NaN  \n",
       "75%                  NaN  \n",
       "max                  NaN  "
      ]
     },
     "execution_count": 20,
     "metadata": {},
     "output_type": "execute_result"
    }
   ],
   "source": [
    "agg_no_gas.describe(include='all')"
   ]
  },
  {
   "cell_type": "code",
   "execution_count": 21,
   "metadata": {
    "collapsed": false
   },
   "outputs": [
    {
     "data": {
      "text/html": [
       "<div>\n",
       "<table border=\"1\" class=\"dataframe\">\n",
       "  <thead>\n",
       "    <tr style=\"text-align: right;\">\n",
       "      <th></th>\n",
       "      <th>count</th>\n",
       "      <th>unique</th>\n",
       "      <th>top</th>\n",
       "      <th>freq</th>\n",
       "    </tr>\n",
       "  </thead>\n",
       "  <tbody>\n",
       "    <tr>\n",
       "      <th>AGE_DESC</th>\n",
       "      <td>801</td>\n",
       "      <td>6</td>\n",
       "      <td>45-54</td>\n",
       "      <td>288</td>\n",
       "    </tr>\n",
       "    <tr>\n",
       "      <th>MARITAL_STATUS_CODE</th>\n",
       "      <td>801</td>\n",
       "      <td>3</td>\n",
       "      <td>U</td>\n",
       "      <td>344</td>\n",
       "    </tr>\n",
       "    <tr>\n",
       "      <th>INCOME_DESC</th>\n",
       "      <td>801</td>\n",
       "      <td>12</td>\n",
       "      <td>50-74K</td>\n",
       "      <td>192</td>\n",
       "    </tr>\n",
       "    <tr>\n",
       "      <th>HOMEOWNER_DESC</th>\n",
       "      <td>801</td>\n",
       "      <td>5</td>\n",
       "      <td>Homeowner</td>\n",
       "      <td>504</td>\n",
       "    </tr>\n",
       "    <tr>\n",
       "      <th>HH_COMP_DESC</th>\n",
       "      <td>801</td>\n",
       "      <td>6</td>\n",
       "      <td>2 Adults No Kids</td>\n",
       "      <td>255</td>\n",
       "    </tr>\n",
       "    <tr>\n",
       "      <th>HOUSEHOLD_SIZE_DESC</th>\n",
       "      <td>801</td>\n",
       "      <td>5</td>\n",
       "      <td>2</td>\n",
       "      <td>318</td>\n",
       "    </tr>\n",
       "    <tr>\n",
       "      <th>KID_CATEGORY_DESC</th>\n",
       "      <td>801</td>\n",
       "      <td>4</td>\n",
       "      <td>None/Unknown</td>\n",
       "      <td>558</td>\n",
       "    </tr>\n",
       "  </tbody>\n",
       "</table>\n",
       "</div>"
      ],
      "text/plain": [
       "                    count unique               top freq\n",
       "AGE_DESC              801      6             45-54  288\n",
       "MARITAL_STATUS_CODE   801      3                 U  344\n",
       "INCOME_DESC           801     12            50-74K  192\n",
       "HOMEOWNER_DESC        801      5         Homeowner  504\n",
       "HH_COMP_DESC          801      6  2 Adults No Kids  255\n",
       "HOUSEHOLD_SIZE_DESC   801      5                 2  318\n",
       "KID_CATEGORY_DESC     801      4      None/Unknown  558"
      ]
     },
     "execution_count": 21,
     "metadata": {},
     "output_type": "execute_result"
    }
   ],
   "source": [
    "demo.describe(include='all').T"
   ]
  },
  {
   "cell_type": "code",
   "execution_count": 22,
   "metadata": {
    "collapsed": false
   },
   "outputs": [
    {
     "data": {
      "text/html": [
       "<div>\n",
       "<table border=\"1\" class=\"dataframe\">\n",
       "  <thead>\n",
       "    <tr style=\"text-align: right;\">\n",
       "      <th></th>\n",
       "      <th>DAY</th>\n",
       "      <th>SALES_VALUE</th>\n",
       "      <th>TRANS_TIME</th>\n",
       "      <th>WEEK_NO</th>\n",
       "      <th>COUPON_DISC</th>\n",
       "      <th>SUM(QUANTITY)</th>\n",
       "      <th>AGE_DESC</th>\n",
       "      <th>MARITAL_STATUS_CODE</th>\n",
       "      <th>INCOME_DESC</th>\n",
       "      <th>HOMEOWNER_DESC</th>\n",
       "      <th>HH_COMP_DESC</th>\n",
       "      <th>HOUSEHOLD_SIZE_DESC</th>\n",
       "      <th>KID_CATEGORY_DESC</th>\n",
       "    </tr>\n",
       "  </thead>\n",
       "  <tbody>\n",
       "    <tr>\n",
       "      <th>count</th>\n",
       "      <td>140339.000000</td>\n",
       "      <td>140339.000000</td>\n",
       "      <td>140339.000000</td>\n",
       "      <td>140339.000000</td>\n",
       "      <td>140339.000000</td>\n",
       "      <td>140339.000000</td>\n",
       "      <td>140339</td>\n",
       "      <td>140339</td>\n",
       "      <td>140339</td>\n",
       "      <td>140339</td>\n",
       "      <td>140339</td>\n",
       "      <td>140339</td>\n",
       "      <td>140339</td>\n",
       "    </tr>\n",
       "    <tr>\n",
       "      <th>unique</th>\n",
       "      <td>NaN</td>\n",
       "      <td>NaN</td>\n",
       "      <td>NaN</td>\n",
       "      <td>NaN</td>\n",
       "      <td>NaN</td>\n",
       "      <td>NaN</td>\n",
       "      <td>6</td>\n",
       "      <td>3</td>\n",
       "      <td>12</td>\n",
       "      <td>5</td>\n",
       "      <td>6</td>\n",
       "      <td>5</td>\n",
       "      <td>4</td>\n",
       "    </tr>\n",
       "    <tr>\n",
       "      <th>top</th>\n",
       "      <td>NaN</td>\n",
       "      <td>NaN</td>\n",
       "      <td>NaN</td>\n",
       "      <td>NaN</td>\n",
       "      <td>NaN</td>\n",
       "      <td>NaN</td>\n",
       "      <td>45-54</td>\n",
       "      <td>U</td>\n",
       "      <td>50-74K</td>\n",
       "      <td>Homeowner</td>\n",
       "      <td>2 Adults No Kids</td>\n",
       "      <td>2</td>\n",
       "      <td>None/Unknown</td>\n",
       "    </tr>\n",
       "    <tr>\n",
       "      <th>freq</th>\n",
       "      <td>NaN</td>\n",
       "      <td>NaN</td>\n",
       "      <td>NaN</td>\n",
       "      <td>NaN</td>\n",
       "      <td>NaN</td>\n",
       "      <td>NaN</td>\n",
       "      <td>51394</td>\n",
       "      <td>62822</td>\n",
       "      <td>32224</td>\n",
       "      <td>84814</td>\n",
       "      <td>43221</td>\n",
       "      <td>53845</td>\n",
       "      <td>97444</td>\n",
       "    </tr>\n",
       "    <tr>\n",
       "      <th>mean</th>\n",
       "      <td>393.636608</td>\n",
       "      <td>32.048940</td>\n",
       "      <td>1540.402461</td>\n",
       "      <td>56.934017</td>\n",
       "      <td>-0.010724</td>\n",
       "      <td>1168.151326</td>\n",
       "      <td>NaN</td>\n",
       "      <td>NaN</td>\n",
       "      <td>NaN</td>\n",
       "      <td>NaN</td>\n",
       "      <td>NaN</td>\n",
       "      <td>NaN</td>\n",
       "      <td>NaN</td>\n",
       "    </tr>\n",
       "    <tr>\n",
       "      <th>std</th>\n",
       "      <td>185.936698</td>\n",
       "      <td>38.308015</td>\n",
       "      <td>416.637177</td>\n",
       "      <td>26.563007</td>\n",
       "      <td>0.196030</td>\n",
       "      <td>3836.425744</td>\n",
       "      <td>NaN</td>\n",
       "      <td>NaN</td>\n",
       "      <td>NaN</td>\n",
       "      <td>NaN</td>\n",
       "      <td>NaN</td>\n",
       "      <td>NaN</td>\n",
       "      <td>NaN</td>\n",
       "    </tr>\n",
       "    <tr>\n",
       "      <th>min</th>\n",
       "      <td>1.000000</td>\n",
       "      <td>0.000000</td>\n",
       "      <td>0.000000</td>\n",
       "      <td>1.000000</td>\n",
       "      <td>-30.000000</td>\n",
       "      <td>0.000000</td>\n",
       "      <td>NaN</td>\n",
       "      <td>NaN</td>\n",
       "      <td>NaN</td>\n",
       "      <td>NaN</td>\n",
       "      <td>NaN</td>\n",
       "      <td>NaN</td>\n",
       "      <td>NaN</td>\n",
       "    </tr>\n",
       "    <tr>\n",
       "      <th>25%</th>\n",
       "      <td>236.000000</td>\n",
       "      <td>7.950000</td>\n",
       "      <td>1245.000000</td>\n",
       "      <td>34.000000</td>\n",
       "      <td>0.000000</td>\n",
       "      <td>3.000000</td>\n",
       "      <td>NaN</td>\n",
       "      <td>NaN</td>\n",
       "      <td>NaN</td>\n",
       "      <td>NaN</td>\n",
       "      <td>NaN</td>\n",
       "      <td>NaN</td>\n",
       "      <td>NaN</td>\n",
       "    </tr>\n",
       "    <tr>\n",
       "      <th>50%</th>\n",
       "      <td>400.000000</td>\n",
       "      <td>19.750000</td>\n",
       "      <td>1604.000000</td>\n",
       "      <td>58.000000</td>\n",
       "      <td>0.000000</td>\n",
       "      <td>9.000000</td>\n",
       "      <td>NaN</td>\n",
       "      <td>NaN</td>\n",
       "      <td>NaN</td>\n",
       "      <td>NaN</td>\n",
       "      <td>NaN</td>\n",
       "      <td>NaN</td>\n",
       "      <td>NaN</td>\n",
       "    </tr>\n",
       "    <tr>\n",
       "      <th>75%</th>\n",
       "      <td>553.000000</td>\n",
       "      <td>40.210000</td>\n",
       "      <td>1841.000000</td>\n",
       "      <td>80.000000</td>\n",
       "      <td>0.000000</td>\n",
       "      <td>27.000000</td>\n",
       "      <td>NaN</td>\n",
       "      <td>NaN</td>\n",
       "      <td>NaN</td>\n",
       "      <td>NaN</td>\n",
       "      <td>NaN</td>\n",
       "      <td>NaN</td>\n",
       "      <td>NaN</td>\n",
       "    </tr>\n",
       "    <tr>\n",
       "      <th>max</th>\n",
       "      <td>711.000000</td>\n",
       "      <td>961.490000</td>\n",
       "      <td>2359.000000</td>\n",
       "      <td>102.000000</td>\n",
       "      <td>0.000000</td>\n",
       "      <td>89638.000000</td>\n",
       "      <td>NaN</td>\n",
       "      <td>NaN</td>\n",
       "      <td>NaN</td>\n",
       "      <td>NaN</td>\n",
       "      <td>NaN</td>\n",
       "      <td>NaN</td>\n",
       "      <td>NaN</td>\n",
       "    </tr>\n",
       "  </tbody>\n",
       "</table>\n",
       "</div>"
      ],
      "text/plain": [
       "                  DAY    SALES_VALUE     TRANS_TIME        WEEK_NO  \\\n",
       "count   140339.000000  140339.000000  140339.000000  140339.000000   \n",
       "unique            NaN            NaN            NaN            NaN   \n",
       "top               NaN            NaN            NaN            NaN   \n",
       "freq              NaN            NaN            NaN            NaN   \n",
       "mean       393.636608      32.048940    1540.402461      56.934017   \n",
       "std        185.936698      38.308015     416.637177      26.563007   \n",
       "min          1.000000       0.000000       0.000000       1.000000   \n",
       "25%        236.000000       7.950000    1245.000000      34.000000   \n",
       "50%        400.000000      19.750000    1604.000000      58.000000   \n",
       "75%        553.000000      40.210000    1841.000000      80.000000   \n",
       "max        711.000000     961.490000    2359.000000     102.000000   \n",
       "\n",
       "          COUPON_DISC  SUM(QUANTITY) AGE_DESC MARITAL_STATUS_CODE INCOME_DESC  \\\n",
       "count   140339.000000  140339.000000   140339              140339      140339   \n",
       "unique            NaN            NaN        6                   3          12   \n",
       "top               NaN            NaN    45-54                   U      50-74K   \n",
       "freq              NaN            NaN    51394               62822       32224   \n",
       "mean        -0.010724    1168.151326      NaN                 NaN         NaN   \n",
       "std          0.196030    3836.425744      NaN                 NaN         NaN   \n",
       "min        -30.000000       0.000000      NaN                 NaN         NaN   \n",
       "25%          0.000000       3.000000      NaN                 NaN         NaN   \n",
       "50%          0.000000       9.000000      NaN                 NaN         NaN   \n",
       "75%          0.000000      27.000000      NaN                 NaN         NaN   \n",
       "max          0.000000   89638.000000      NaN                 NaN         NaN   \n",
       "\n",
       "       HOMEOWNER_DESC      HH_COMP_DESC HOUSEHOLD_SIZE_DESC KID_CATEGORY_DESC  \n",
       "count          140339            140339              140339            140339  \n",
       "unique              5                 6                   5                 4  \n",
       "top         Homeowner  2 Adults No Kids                   2      None/Unknown  \n",
       "freq            84814             43221               53845             97444  \n",
       "mean              NaN               NaN                 NaN               NaN  \n",
       "std               NaN               NaN                 NaN               NaN  \n",
       "min               NaN               NaN                 NaN               NaN  \n",
       "25%               NaN               NaN                 NaN               NaN  \n",
       "50%               NaN               NaN                 NaN               NaN  \n",
       "75%               NaN               NaN                 NaN               NaN  \n",
       "max               NaN               NaN                 NaN               NaN  "
      ]
     },
     "execution_count": 22,
     "metadata": {},
     "output_type": "execute_result"
    }
   ],
   "source": [
    "p_d_sales.describe(include='all')"
   ]
  },
  {
   "cell_type": "code",
   "execution_count": 23,
   "metadata": {
    "collapsed": false
   },
   "outputs": [],
   "source": [
    "# Drop unused columns\n",
    "p_d_sales = p_d_sales.drop('DAY', axis=1)\n",
    "p_d_sales = p_d_sales.drop('WEEK_NO', axis=1)\n",
    "p_d_sales = p_d_sales.drop('TRANS_TIME', axis=1)\n",
    "p_d_sales = p_d_sales.drop('SUM(QUANTITY)', axis=1)\n",
    "p_d_sales = p_d_sales.drop('COUPON_DISC', axis=1)"
   ]
  },
  {
   "cell_type": "markdown",
   "metadata": {},
   "source": [
    "### # Does it look like you think it should?"
   ]
  },
  {
   "cell_type": "code",
   "execution_count": 25,
   "metadata": {
    "collapsed": false
   },
   "outputs": [
    {
     "data": {
      "text/html": [
       "<div>\n",
       "<table border=\"1\" class=\"dataframe\">\n",
       "  <thead>\n",
       "    <tr style=\"text-align: right;\">\n",
       "      <th></th>\n",
       "      <th>SALES_VALUE</th>\n",
       "      <th>AGE_DESC</th>\n",
       "      <th>MARITAL_STATUS_CODE</th>\n",
       "      <th>INCOME_DESC</th>\n",
       "      <th>HOMEOWNER_DESC</th>\n",
       "      <th>HH_COMP_DESC</th>\n",
       "      <th>HOUSEHOLD_SIZE_DESC</th>\n",
       "      <th>KID_CATEGORY_DESC</th>\n",
       "    </tr>\n",
       "    <tr>\n",
       "      <th>BASKET_ID</th>\n",
       "      <th></th>\n",
       "      <th></th>\n",
       "      <th></th>\n",
       "      <th></th>\n",
       "      <th></th>\n",
       "      <th></th>\n",
       "      <th></th>\n",
       "      <th></th>\n",
       "    </tr>\n",
       "  </thead>\n",
       "  <tbody>\n",
       "    <tr>\n",
       "      <th>1364</th>\n",
       "      <td>11.37</td>\n",
       "      <td>65+</td>\n",
       "      <td>B</td>\n",
       "      <td>100-124K</td>\n",
       "      <td>Homeowner</td>\n",
       "      <td>Single Female</td>\n",
       "      <td>1</td>\n",
       "      <td>None/Unknown</td>\n",
       "    </tr>\n",
       "    <tr>\n",
       "      <th>1130</th>\n",
       "      <td>2.55</td>\n",
       "      <td>55-64</td>\n",
       "      <td>U</td>\n",
       "      <td>25-34K</td>\n",
       "      <td>Renter</td>\n",
       "      <td>2 Adults Kids</td>\n",
       "      <td>3</td>\n",
       "      <td>1</td>\n",
       "    </tr>\n",
       "    <tr>\n",
       "      <th>98</th>\n",
       "      <td>5.79</td>\n",
       "      <td>35-44</td>\n",
       "      <td>U</td>\n",
       "      <td>35-49K</td>\n",
       "      <td>Unknown</td>\n",
       "      <td>1 Adult Kids</td>\n",
       "      <td>2</td>\n",
       "      <td>1</td>\n",
       "    </tr>\n",
       "    <tr>\n",
       "      <th>1172</th>\n",
       "      <td>44.78</td>\n",
       "      <td>25-34</td>\n",
       "      <td>B</td>\n",
       "      <td>50-74K</td>\n",
       "      <td>Unknown</td>\n",
       "      <td>Single Male</td>\n",
       "      <td>1</td>\n",
       "      <td>None/Unknown</td>\n",
       "    </tr>\n",
       "    <tr>\n",
       "      <th>1060</th>\n",
       "      <td>139.22</td>\n",
       "      <td>35-44</td>\n",
       "      <td>B</td>\n",
       "      <td>35-49K</td>\n",
       "      <td>Renter</td>\n",
       "      <td>2 Adults No Kids</td>\n",
       "      <td>2</td>\n",
       "      <td>None/Unknown</td>\n",
       "    </tr>\n",
       "  </tbody>\n",
       "</table>\n",
       "</div>"
      ],
      "text/plain": [
       "           SALES_VALUE AGE_DESC MARITAL_STATUS_CODE INCOME_DESC  \\\n",
       "BASKET_ID                                                         \n",
       "1364             11.37      65+                   B    100-124K   \n",
       "1130              2.55    55-64                   U      25-34K   \n",
       "98                5.79    35-44                   U      35-49K   \n",
       "1172             44.78    25-34                   B      50-74K   \n",
       "1060            139.22    35-44                   B      35-49K   \n",
       "\n",
       "          HOMEOWNER_DESC      HH_COMP_DESC HOUSEHOLD_SIZE_DESC  \\\n",
       "BASKET_ID                                                        \n",
       "1364           Homeowner     Single Female                   1   \n",
       "1130              Renter     2 Adults Kids                   3   \n",
       "98               Unknown      1 Adult Kids                   2   \n",
       "1172             Unknown       Single Male                   1   \n",
       "1060              Renter  2 Adults No Kids                   2   \n",
       "\n",
       "          KID_CATEGORY_DESC  \n",
       "BASKET_ID                    \n",
       "1364           None/Unknown  \n",
       "1130                      1  \n",
       "98                        1  \n",
       "1172           None/Unknown  \n",
       "1060           None/Unknown  "
      ]
     },
     "execution_count": 25,
     "metadata": {},
     "output_type": "execute_result"
    }
   ],
   "source": [
    "p_d_sales[:5]"
   ]
  },
  {
   "cell_type": "code",
   "execution_count": 26,
   "metadata": {
    "collapsed": false
   },
   "outputs": [
    {
     "data": {
      "text/plain": [
       "Index([u'SALES_VALUE', u'AGE_DESC', u'MARITAL_STATUS_CODE', u'INCOME_DESC',\n",
       "       u'HOMEOWNER_DESC', u'HH_COMP_DESC', u'HOUSEHOLD_SIZE_DESC',\n",
       "       u'KID_CATEGORY_DESC'],\n",
       "      dtype='object')"
      ]
     },
     "execution_count": 26,
     "metadata": {},
     "output_type": "execute_result"
    }
   ],
   "source": [
    "p_d_sales.columns"
   ]
  },
  {
   "cell_type": "markdown",
   "metadata": {},
   "source": [
    "# Visualize Customer Demographics"
   ]
  },
  {
   "cell_type": "code",
   "execution_count": 27,
   "metadata": {
    "collapsed": false
   },
   "outputs": [
    {
     "data": {
      "image/png": "[encoded data removed]",
      "text/plain": [
       "<matplotlib.figure.Figure at 0x10c56add0>"
      ]
     },
     "metadata": {},
     "output_type": "display_data"
    }
   ],
   "source": [
    "a = sns.countplot(x=\"AGE_DESC\", data=demo)\n",
    "sns.axlabel(\"Age\", \"Count\")\n",
    "a.axes.set_title('Customer Age Distribution')\n",
    "plt.savefig('age.png')"
   ]
  },
  {
   "cell_type": "code",
   "execution_count": 32,
   "metadata": {
    "collapsed": false
   },
   "outputs": [
    {
     "data": {
      "image/png": "[encoded data removed]",
      "text/plain": [
       "<matplotlib.figure.Figure at 0x10d3b0310>"
      ]
     },
     "metadata": {},
     "output_type": "display_data"
    }
   ],
   "source": [
    "sns.set_context(\"talk\", font_scale = 0.6)\n",
    "plt.figure(figsize=(8, 6))\n",
    "a = sns.countplot(x=\"INCOME_DESC\", data=demo, order=['25-34K', '35-49K','50-74K', '75-99K', '100-124K', '125-149K', '150-174K', '175-199K', '200-249K', '250K+'])\n",
    "sns.axlabel(\"Income\", \"Count\")\n",
    "a.axes.set_title('Customer Income Distribution')\n",
    "plt.savefig('income.png')"
   ]
  },
  {
   "cell_type": "code",
   "execution_count": 29,
   "metadata": {
    "collapsed": false
   },
   "outputs": [
    {
     "data": {
      "image/png": "[encoded data removed]",
      "text/plain": [
       "<matplotlib.figure.Figure at 0x10bb95390>"
      ]
     },
     "metadata": {},
     "output_type": "display_data"
    }
   ],
   "source": [
    "sns.set_context(\"talk\", font_scale = 0.9)\n",
    "plt.figure(figsize=(8, 6))\n",
    "a = sns.countplot(x=\"HOMEOWNER_DESC\", data=demo)\n",
    "sns.axlabel(\"Homeowner Status\", \"Count\")\n",
    "a.axes.set_title('Customer Homeowner Status Distribution')\n",
    "plt.savefig('homeowner.png')"
   ]
  },
  {
   "cell_type": "code",
   "execution_count": 7,
   "metadata": {
    "collapsed": false
   },
   "outputs": [
    {
     "data": {
      "image/png": "[encoded data removed]",
      "text/plain": [
       "<matplotlib.figure.Figure at 0x10da50d50>"
      ]
     },
     "metadata": {},
     "output_type": "display_data"
    }
   ],
   "source": [
    "sns.set_context(\"talk\", font_scale = 0.8)\n",
    "plt.figure(figsize=(8, 6))\n",
    "a = sns.countplot(x=\"HH_COMP_DESC\", data=demo)\n",
    "sns.axlabel(\"Household Residents\", \"Count\")\n",
    "a.axes.set_title('Customer Household Residents Distribution')\n",
    "plt.savefig('residents.png')"
   ]
  },
  {
   "cell_type": "code",
   "execution_count": 13,
   "metadata": {
    "collapsed": false,
    "scrolled": true
   },
   "outputs": [
    {
     "data": {
      "image/png": "[encoded data removed]",
      "text/plain": [
       "<matplotlib.figure.Figure at 0x110258390>"
      ]
     },
     "metadata": {},
     "output_type": "display_data"
    }
   ],
   "source": [
    "sns.set_context(\"talk\", font_scale = 0.8)\n",
    "plt.figure(figsize=(8, 6))\n",
    "a = sns.countplot(x=\"KID_CATEGORY_DESC\", data=demo)\n",
    "sns.axlabel(\"Number of Children\", \"Count\")\n",
    "a.axes.set_title('Customer Children Distribution')\n",
    "plt.savefig('kids.png')"
   ]
  },
  {
   "cell_type": "code",
   "execution_count": 15,
   "metadata": {
    "collapsed": false
   },
   "outputs": [
    {
     "data": {
      "image/png": "[encoded data removed]",
      "text/plain": [
       "<matplotlib.figure.Figure at 0x10fc9f910>"
      ]
     },
     "metadata": {},
     "output_type": "display_data"
    }
   ],
   "source": [
    "sns.set_context(\"talk\", font_scale = 0.8)\n",
    "plt.figure(figsize=(8, 6))\n",
    "a = sns.countplot(x=\"MARITAL_STATUS_CODE\", data=demo)\n",
    "sns.axlabel(\"Marital Status\", \"Count\")\n",
    "a.axes.set_title('Customer Marital Status Distribution')\n",
    "a.axes.set_xticklabels(['Married', 'Unknown','Unmarried'])\n",
    "plt.savefig('marital.png')"
   ]
  },
  {
   "cell_type": "markdown",
   "metadata": {},
   "source": [
    "# Visualize Transaction Data"
   ]
  },
  {
   "cell_type": "code",
   "execution_count": 46,
   "metadata": {
    "collapsed": false
   },
   "outputs": [
    {
     "data": {
      "image/png": "[encoded data removed]",
      "text/plain": [
       "<matplotlib.figure.Figure at 0x10d35fa90>"
      ]
     },
     "metadata": {},
     "output_type": "display_data"
    }
   ],
   "source": [
    "sns.set_context(\"talk\")\n",
    "plt.figure(figsize=(8, 6))\n",
    "a = sns.distplot(agg_no_gas['sales'], bins = 15)\n",
    "sns.axlabel(\"Amount Spent\", \"Percent\")\n",
    "plt.xlim(0, 500)\n",
    "a.axes.set_title('Distribution of Total Transaction Amounts')\n",
    "plt.savefig('total_amount_dist.png')"
   ]
  },
  {
   "cell_type": "code",
   "execution_count": 40,
   "metadata": {
    "collapsed": false
   },
   "outputs": [
    {
     "data": {
      "image/png": "[encoded data removed]",
      "text/plain": [
       "<matplotlib.figure.Figure at 0x10c548790>"
      ]
     },
     "metadata": {},
     "output_type": "display_data"
    }
   ],
   "source": [
    "sns.set_context(\"talk\")\n",
    "plt.figure(figsize=(8, 6))\n",
    "a = sns.boxplot(agg_no_gas['sales'], orient='v')\n",
    "sns.axlabel(\"\", \"Amount Spent\")\n",
    "a.axes.set_title('Distribution of Amount Spent Per Transaction')\n",
    "plt.savefig('amount_boxplot.png')"
   ]
  },
  {
   "cell_type": "code",
   "execution_count": 45,
   "metadata": {
    "collapsed": false
   },
   "outputs": [
    {
     "data": {
      "image/png": "[encoded data removed]",
      "text/plain": [
       "<matplotlib.figure.Figure at 0x10d33fad0>"
      ]
     },
     "metadata": {},
     "output_type": "display_data"
    }
   ],
   "source": [
    "sns.set_context(\"talk\")\n",
    "plt.figure(figsize=(8, 6))\n",
    "a = sns.distplot(agg_no_gas['total'], bins = 15)\n",
    "sns.axlabel(\"Number of Items Purchased\", \"Percent\")\n",
    "plt.xlim(0, 230)\n",
    "a.axes.set_title('Distribution of Number of Items Purchased')\n",
    "plt.savefig('num_items_dist.png')"
   ]
  },
  {
   "cell_type": "code",
   "execution_count": 51,
   "metadata": {
    "collapsed": false
   },
   "outputs": [
    {
     "data": {
      "image/png": "[encoded data removed]",
      "text/plain": [
       "<matplotlib.figure.Figure at 0x10d3135d0>"
      ]
     },
     "metadata": {},
     "output_type": "display_data"
    }
   ],
   "source": [
    "sns.set_context(\"talk\")\n",
    "plt.figure(figsize=(8, 6))\n",
    "a = sns.boxplot(agg_no_gas['total'], orient='v')\n",
    "sns.axlabel(\"\", \"Number of Items Purchased\")\n",
    "a.axes.set_title('Distribution of Number of Items Purchased')\n",
    "plt.ylim(0, 230)\n",
    "plt.savefig('quantity_boxplot.png')"
   ]
  }
 ],
 "metadata": {
  "kernelspec": {
   "display_name": "Python 2",
   "language": "python",
   "name": "python2"
  },
  "language_info": {
   "codemirror_mode": {
    "name": "ipython",
    "version": 2
   },
   "file_extension": ".py",
   "mimetype": "text/x-python",
   "name": "python",
   "nbconvert_exporter": "python",
   "pygments_lexer": "ipython2",
   "version": "2.7.11"
  }
 },
 "nbformat": 4,
 "nbformat_minor": 0
}
